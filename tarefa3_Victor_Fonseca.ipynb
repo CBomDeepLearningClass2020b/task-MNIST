{
  "nbformat": 4,
  "nbformat_minor": 0,
  "metadata": {
    "colab": {
      "name": "tarefa3_Victor_Fonseca.ipynb",
      "provenance": []
    },
    "kernelspec": {
      "name": "python3",
      "display_name": "Python 3"
    },
    "accelerator": "GPU"
  },
  "cells": [
    {
      "cell_type": "markdown",
      "metadata": {
        "id": "ozXSexWkI_bO"
      },
      "source": [
        "# Tarefa 3 – Primeira rede CNN com MNIST"
      ]
    },
    {
      "cell_type": "markdown",
      "metadata": {
        "id": "wuYm0JEgJan5"
      },
      "source": [
        "Getting MNIST Data Set"
      ]
    },
    {
      "cell_type": "code",
      "metadata": {
        "id": "5z89PoFMJfFk",
        "colab": {
          "base_uri": "https://localhost:8080/",
          "height": 122
        },
        "outputId": "fd58333a-24e2-4bf5-f04b-a4ad7e8ee5bc"
      },
      "source": [
        "!pip install mnist"
      ],
      "execution_count": null,
      "outputs": [
        {
          "output_type": "stream",
          "text": [
            "Collecting mnist\n",
            "  Downloading https://files.pythonhosted.org/packages/c6/c4/5db3bfe009f8d71f1d532bbadbd0ec203764bba3a469e4703a889db8e5e0/mnist-0.2.2-py2.py3-none-any.whl\n",
            "Requirement already satisfied: numpy in /usr/local/lib/python3.6/dist-packages (from mnist) (1.18.5)\n",
            "Installing collected packages: mnist\n",
            "Successfully installed mnist-0.2.2\n"
          ],
          "name": "stdout"
        }
      ]
    },
    {
      "cell_type": "code",
      "metadata": {
        "id": "Jzm1YntZJjuY"
      },
      "source": [
        "import numpy as np\n",
        "import matplotlib.pyplot as plt\n",
        "import mnist    \n",
        "from tensorflow.keras.models import Sequential\n",
        "from tensorflow.keras.layers import Dense, Conv2D, MaxPooling2D, Flatten, Dropout\n",
        "from tensorflow.keras.utils import to_categorical\n",
        "from tensorflow.keras.callbacks import ModelCheckpoint\n",
        "from sklearn.model_selection import train_test_split"
      ],
      "execution_count": null,
      "outputs": []
    },
    {
      "cell_type": "code",
      "metadata": {
        "id": "PmhNVI8pXifx",
        "colab": {
          "base_uri": "https://localhost:8080/",
          "height": 34
        },
        "outputId": "583a0eab-90bd-4531-e7ec-a34edaa4fa2d"
      },
      "source": [
        "# Training data (also validation data)\n",
        "X_train = mnist.train_images()\n",
        "y_train = mnist.train_labels()\n",
        "# Test data\n",
        "X_test = mnist.test_images()\n",
        "y_test = mnist.test_labels()\n",
        "\n",
        "X_train.shape, X_test.shape, X_train.shape[0]"
      ],
      "execution_count": null,
      "outputs": [
        {
          "output_type": "execute_result",
          "data": {
            "text/plain": [
              "((60000, 28, 28), (10000, 28, 28), 60000)"
            ]
          },
          "metadata": {
            "tags": []
          },
          "execution_count": 4
        }
      ]
    },
    {
      "cell_type": "code",
      "metadata": {
        "id": "FxF3I1GeXBx5",
        "colab": {
          "base_uri": "https://localhost:8080/",
          "height": 34
        },
        "outputId": "93bfc374-94cb-407c-b9f0-662a02ac33ab"
      },
      "source": [
        "X_train, X_val, y_train, y_val = train_test_split(X_train, y_train, test_size=0.2)\n",
        "\n",
        "# reshape to be [samples][pixels][width][height]\n",
        "X_train = X_train.astype('float32')\n",
        "X_val = X_val.astype('float32')\n",
        "X_test = X_test.astype('float32')\n",
        "X_train.shape, X_val.shape, X_test.shape"
      ],
      "execution_count": null,
      "outputs": [
        {
          "output_type": "execute_result",
          "data": {
            "text/plain": [
              "((48000, 28, 28), (12000, 28, 28), (10000, 28, 28))"
            ]
          },
          "metadata": {
            "tags": []
          },
          "execution_count": 5
        }
      ]
    },
    {
      "cell_type": "code",
      "metadata": {
        "id": "EOakcoyuuaKg"
      },
      "source": [
        "# Normalize inputs\n",
        "X_train = X_train / 255\n",
        "X_val = X_val / 255\n",
        "X_test = X_test / 255"
      ],
      "execution_count": null,
      "outputs": []
    },
    {
      "cell_type": "code",
      "metadata": {
        "id": "xFfnYyO1z_OV",
        "colab": {
          "base_uri": "https://localhost:8080/",
          "height": 34
        },
        "outputId": "6fd1c341-8677-4d62-c68e-83f76b5279d9"
      },
      "source": [
        "# Make sure images have shape (28, 28, 1)\n",
        "X_train = np.expand_dims(X_train, -1)\n",
        "X_val = np.expand_dims(X_val, -1)\n",
        "X_test = np.expand_dims(X_test, -1)\n",
        "X_train.shape, X_val.shape, X_test.shape"
      ],
      "execution_count": null,
      "outputs": [
        {
          "output_type": "execute_result",
          "data": {
            "text/plain": [
              "((48000, 28, 28, 1), (12000, 28, 28, 1), (10000, 28, 28, 1))"
            ]
          },
          "metadata": {
            "tags": []
          },
          "execution_count": 7
        }
      ]
    },
    {
      "cell_type": "code",
      "metadata": {
        "id": "qsQTVioQv95S",
        "colab": {
          "base_uri": "https://localhost:8080/",
          "height": 34
        },
        "outputId": "b1aec882-8386-400c-ac53-268d2b1ba505"
      },
      "source": [
        "# One hot enconde outputs\n",
        "y_train = to_categorical(y_train)\n",
        "y_val = to_categorical(y_val)\n",
        "y_test = to_categorical(y_test)\n",
        "nb_classes = y_train.shape[1]\n",
        "y_train.shape"
      ],
      "execution_count": null,
      "outputs": [
        {
          "output_type": "execute_result",
          "data": {
            "text/plain": [
              "(48000, 10)"
            ]
          },
          "metadata": {
            "tags": []
          },
          "execution_count": 8
        }
      ]
    },
    {
      "cell_type": "code",
      "metadata": {
        "id": "2fh3qcHOJwHy"
      },
      "source": [
        "def create_model():\n",
        "  model = Sequential()\n",
        "  model.add(Conv2D(32, kernel_size=(5, 5), \n",
        "                  strides=(1, 1),  \n",
        "                  input_shape=(28, 28, 1),  \n",
        "                  activation='relu',))\n",
        "  model.add(MaxPooling2D(pool_size=(2, 2), strides=(2, 2)))\n",
        "  model.add(Conv2D(16, (3, 3), activation='relu'))\n",
        "  model.add(MaxPooling2D(pool_size=(2, 2)))\n",
        "  model.add(Dropout(0.5))\n",
        "  model.add(Flatten())\n",
        "  model.add(Dense(1000, activation='relu'))\n",
        "  model.add(Dense(nb_classes, activation='softmax'))\n",
        "  model.compile(optimizer='adam', loss='categorical_crossentropy', metrics=['accuracy'])\n",
        "\n",
        "  return model"
      ],
      "execution_count": null,
      "outputs": []
    },
    {
      "cell_type": "code",
      "metadata": {
        "id": "gFxPXwnYXxHH",
        "colab": {
          "base_uri": "https://localhost:8080/",
          "height": 425
        },
        "outputId": "c1caa28d-94f5-462b-f1e8-3bd26f682d18"
      },
      "source": [
        "model = create_model()\n",
        "model.summary()"
      ],
      "execution_count": null,
      "outputs": [
        {
          "output_type": "stream",
          "text": [
            "Model: \"sequential_8\"\n",
            "_________________________________________________________________\n",
            "Layer (type)                 Output Shape              Param #   \n",
            "=================================================================\n",
            "conv2d_16 (Conv2D)           (None, 24, 24, 32)        832       \n",
            "_________________________________________________________________\n",
            "max_pooling2d_16 (MaxPooling (None, 12, 12, 32)        0         \n",
            "_________________________________________________________________\n",
            "conv2d_17 (Conv2D)           (None, 10, 10, 16)        4624      \n",
            "_________________________________________________________________\n",
            "max_pooling2d_17 (MaxPooling (None, 5, 5, 16)          0         \n",
            "_________________________________________________________________\n",
            "dropout_6 (Dropout)          (None, 5, 5, 16)          0         \n",
            "_________________________________________________________________\n",
            "flatten_8 (Flatten)          (None, 400)               0         \n",
            "_________________________________________________________________\n",
            "dense_16 (Dense)             (None, 1000)              401000    \n",
            "_________________________________________________________________\n",
            "dense_17 (Dense)             (None, 10)                10010     \n",
            "=================================================================\n",
            "Total params: 416,466\n",
            "Trainable params: 416,466\n",
            "Non-trainable params: 0\n",
            "_________________________________________________________________\n"
          ],
          "name": "stdout"
        }
      ]
    },
    {
      "cell_type": "code",
      "metadata": {
        "id": "Gmmof-_L5HjG"
      },
      "source": [
        "# checkpoint: store the best model\n",
        "checkpoint_model = 'tarefa3-weights.best.hdf5'\n",
        "checkpoint = ModelCheckpoint(checkpoint_model, \n",
        "                            monitor='val_accuracy',\n",
        "                            verbose=1,\n",
        "                            save_best_only=True,\n",
        "                            mode='max')\n",
        "callbacks_list = [checkpoint]"
      ],
      "execution_count": null,
      "outputs": []
    },
    {
      "cell_type": "code",
      "metadata": {
        "id": "SvbimXRDVVcV",
        "colab": {
          "base_uri": "https://localhost:8080/",
          "height": 377
        },
        "outputId": "489b6a94-3b93-4118-9afd-355ca65b2166"
      },
      "source": [
        "BATCH_SIZE = 128\n",
        "num_classes = 10\n",
        "NB_EPOCHS = 10\n",
        "\n",
        "\n",
        "\n",
        "out = model.fit(X_train, y_train, \n",
        "          batch_size=BATCH_SIZE, \n",
        "          epochs=NB_EPOCHS,\n",
        "          validation_data=(X_val, y_val),\n",
        "          callbacks=callbacks_list,\n",
        "          verbose=0) "
      ],
      "execution_count": null,
      "outputs": [
        {
          "output_type": "stream",
          "text": [
            "\n",
            "Epoch 00001: val_accuracy improved from -inf to 0.97667, saving model to tarefa3-weights.best.hdf5\n",
            "\n",
            "Epoch 00002: val_accuracy improved from 0.97667 to 0.98258, saving model to tarefa3-weights.best.hdf5\n",
            "\n",
            "Epoch 00003: val_accuracy improved from 0.98258 to 0.98525, saving model to tarefa3-weights.best.hdf5\n",
            "\n",
            "Epoch 00004: val_accuracy improved from 0.98525 to 0.98708, saving model to tarefa3-weights.best.hdf5\n",
            "\n",
            "Epoch 00005: val_accuracy improved from 0.98708 to 0.98833, saving model to tarefa3-weights.best.hdf5\n",
            "\n",
            "Epoch 00006: val_accuracy improved from 0.98833 to 0.98933, saving model to tarefa3-weights.best.hdf5\n",
            "\n",
            "Epoch 00007: val_accuracy did not improve from 0.98933\n",
            "\n",
            "Epoch 00008: val_accuracy improved from 0.98933 to 0.99083, saving model to tarefa3-weights.best.hdf5\n",
            "\n",
            "Epoch 00009: val_accuracy did not improve from 0.99083\n",
            "\n",
            "Epoch 00010: val_accuracy improved from 0.99083 to 0.99108, saving model to tarefa3-weights.best.hdf5\n"
          ],
          "name": "stdout"
        }
      ]
    },
    {
      "cell_type": "code",
      "metadata": {
        "id": "cOFu7g132uc7",
        "colab": {
          "base_uri": "https://localhost:8080/",
          "height": 621
        },
        "outputId": "0859094d-5d40-496d-a2f8-1b582ac83dfd"
      },
      "source": [
        "fig, ([ax0, ax1]) = plt.subplots(nrows=2, \n",
        "                                ncols=1,\n",
        "                                figsize=(10,10))\n",
        "\n",
        "# Add data to ax0\n",
        "ax0.plot(out.history[\"accuracy\"])\n",
        "ax0.plot(out.history[\"val_accuracy\"])\n",
        "# Change the y axis limits\n",
        "#ax2.set_ylim([0.6, 0.9])\n",
        "# Customize ax0\n",
        "ax0.set(title=\"Model Accuracy\",\n",
        "        xlabel=\"Epoch\",\n",
        "        ylabel=\"Accuracy\");\n",
        "# Add a legend to ax0\n",
        "ax0.legend([\"Training\", \"Validation\"], loc=\"upper left\");\n",
        "\n",
        "# Add data to ax1\n",
        "ax1.plot(out.history[\"loss\"])\n",
        "ax1.plot(out.history[\"val_loss\"])\n",
        "# Change the y axis limits\n",
        "#ax1.set_ylim([0.6, 0.9])\n",
        "# Customize ax0\n",
        "ax1.set(title=\"Model Loss\",\n",
        "        xlabel=\"Epoch\",\n",
        "        ylabel=\"Loss\");\n",
        "# Add a legend to ax0\n",
        "ax1.legend([\"Training\", \"Validation\"], loc=\"upper left\");"
      ],
      "execution_count": null,
      "outputs": [
        {
          "output_type": "display_data",
          "data": {
            "image/png": "[encoded data removed]",
            "text/plain": [
              "<Figure size 720x720 with 2 Axes>"
            ]
          },
          "metadata": {
            "tags": [],
            "needs_background": "light"
          }
        }
      ]
    },
    {
      "cell_type": "code",
      "metadata": {
        "id": "3B8I16zfZTI7",
        "colab": {
          "base_uri": "https://localhost:8080/",
          "height": 51
        },
        "outputId": "31740792-cfe6-45ce-dbf3-b2a4b17a6515"
      },
      "source": [
        "score = model.evaluate(X_test, y_test, batch_size=BATCH_SIZE,  verbose=0)\n",
        "print('Test loss = ',score[0],'\\nTest accuracy = ',score[1])"
      ],
      "execution_count": null,
      "outputs": [
        {
          "output_type": "stream",
          "text": [
            "Test loss =  0.021837923675775528 \n",
            "Test accuracy =  0.9926000237464905\n"
          ],
          "name": "stdout"
        }
      ]
    },
    {
      "cell_type": "code",
      "metadata": {
        "id": "jpDtFnUb74Hl",
        "colab": {
          "base_uri": "https://localhost:8080/",
          "height": 1000
        },
        "outputId": "841cdc7e-f9aa-4d6e-9209-c5d30ee3b229"
      },
      "source": [
        "# Predict single images\n",
        "nb_images = 6\n",
        "# Get images from test set\n",
        "#X_to_predict = X_test[:nb_images]\n",
        "X_to_predict = X_test[-nb_images:]\n",
        "# Predicts\n",
        "# Use the model to predict the images class\n",
        "y_preds = list(model.predict_proba(X_to_predict))\n",
        "\n",
        "# Display\n",
        "for i in range(nb_images):\n",
        "    plt.imshow(np.reshape(X_to_predict[i], [28, 28]), cmap='gray')\n",
        "    plt.show()\n",
        "    output=np.where(y_preds[i]==y_preds[i].max())\n",
        "    print(y_preds[i])\n",
        "    print(\"Model digit prediction:\", output[0][0])\n",
        "\n",
        "#pause()"
      ],
      "execution_count": null,
      "outputs": [
        {
          "output_type": "display_data",
          "data": {
            "image/png": "[encoded data removed]",
            "text/plain": [
              "<Figure size 432x288 with 1 Axes>"
            ]
          },
          "metadata": {
            "tags": [],
            "needs_background": "light"
          }
        },
        {
          "output_type": "stream",
          "text": [
            "[7.0701969e-07 9.9999642e-01 8.7646853e-08 1.8750483e-10 2.0570767e-06\n",
            " 2.4942549e-08 2.0089779e-08 4.4688676e-08 4.2301215e-07 1.7232136e-07]\n",
            "Model digit prediction: 1\n"
          ],
          "name": "stdout"
        },
        {
          "output_type": "display_data",
          "data": {
            "image/png": "[encoded data removed]",
            "text/plain": [
              "<Figure size 432x288 with 1 Axes>"
            ]
          },
          "metadata": {
            "tags": [],
            "needs_background": "light"
          }
        },
        {
          "output_type": "stream",
          "text": [
            "[5.0973648e-10 8.7541531e-07 9.9999428e-01 4.8737512e-08 5.3114213e-10\n",
            " 1.7499047e-14 1.1317180e-12 4.9418700e-06 3.0285296e-09 1.1770296e-12]\n",
            "Model digit prediction: 2\n"
          ],
          "name": "stdout"
        },
        {
          "output_type": "display_data",
          "data": {
            "image/png": "[encoded data removed]",
            "text/plain": [
              "<Figure size 432x288 with 1 Axes>"
            ]
          },
          "metadata": {
            "tags": [],
            "needs_background": "light"
          }
        },
        {
          "output_type": "stream",
          "text": [
            "[1.02204176e-10 2.46029072e-06 2.66870444e-07 9.99987364e-01\n",
            " 1.08488529e-09 8.21664980e-06 2.51591109e-11 1.41949712e-07\n",
            " 3.31424786e-07 1.23382699e-06]\n",
            "Model digit prediction: 3\n"
          ],
          "name": "stdout"
        },
        {
          "output_type": "display_data",
          "data": {
            "image/png": "[encoded data removed]",
            "text/plain": [
              "<Figure size 432x288 with 1 Axes>"
            ]
          },
          "metadata": {
            "tags": [],
            "needs_background": "light"
          }
        },
        {
          "output_type": "stream",
          "text": [
            "[1.9291468e-15 3.8322592e-11 2.8820499e-12 3.4320332e-14 1.0000000e+00\n",
            " 1.5061123e-13 5.4892115e-13 6.7265205e-10 3.5073444e-09 1.2070033e-08]\n",
            "Model digit prediction: 4\n"
          ],
          "name": "stdout"
        },
        {
          "output_type": "display_data",
          "data": {
            "image/png": "[encoded data removed]",
            "text/plain": [
              "<Figure size 432x288 with 1 Axes>"
            ]
          },
          "metadata": {
            "tags": [],
            "needs_background": "light"
          }
        },
        {
          "output_type": "stream",
          "text": [
            "[3.0524305e-08 4.2892132e-10 1.2359161e-09 3.9595550e-05 8.2709872e-10\n",
            " 9.9753332e-01 2.5298496e-06 7.7994655e-10 2.4245940e-03 1.5164041e-08]\n",
            "Model digit prediction: 5\n"
          ],
          "name": "stdout"
        },
        {
          "output_type": "display_data",
          "data": {
            "image/png": "[encoded data removed]",
            "text/plain": [
              "<Figure size 432x288 with 1 Axes>"
            ]
          },
          "metadata": {
            "tags": [],
            "needs_background": "light"
          }
        },
        {
          "output_type": "stream",
          "text": [
            "[2.3982929e-07 6.6844241e-10 1.3288088e-07 8.1233456e-09 4.6776978e-07\n",
            " 7.5724193e-07 9.9999726e-01 1.6827001e-12 1.1914190e-06 1.5638332e-09]\n",
            "Model digit prediction: 6\n"
          ],
          "name": "stdout"
        }
      ]
    },
    {
      "cell_type": "code",
      "metadata": {
        "id": "sOXZ02lN8L0k"
      },
      "source": [
        ""
      ],
      "execution_count": null,
      "outputs": []
    }
  ]
}
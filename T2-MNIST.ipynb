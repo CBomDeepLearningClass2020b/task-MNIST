{
  "nbformat": 4,
  "nbformat_minor": 0,
  "metadata": {
    "colab": {
      "name": "Atividade02.ipynb",
      "provenance": [],
      "collapsed_sections": []
    },
    "kernelspec": {
      "name": "python3",
      "display_name": "Python 3"
    },
    "accelerator": "GPU"
  },
  "cells": [
    {
      "cell_type": "code",
      "metadata": {
        "id": "ZN8UMYEZIpTo"
      },
      "source": [
        "import numpy as np\n",
        "import matplotlib.pyplot as plt\n",
        "import random\n",
        "\n",
        "from keras.datasets import mnist\n",
        "from keras.models import Sequential\n",
        "\n",
        "from keras.layers.core import Dense, Dropout, Activation\n",
        "from keras.utils import np_utils"
      ],
      "execution_count": null,
      "outputs": []
    },
    {
      "cell_type": "code",
      "metadata": {
        "id": "50SQ3bKBJCd1",
        "outputId": "3e874a71-3a95-4b78-a7b0-3db3a26fcd8c",
        "colab": {
          "base_uri": "https://localhost:8080/",
          "height": 139
        }
      },
      "source": [
        "(x_train, y_train), (x_test, y_test) = mnist.load_data()\n",
        "\n",
        "print(\"x_train shape\", x_train.shape)\n",
        "print(\"y_train shape\", y_train.shape)\n",
        "print(\"x_test shape\", x_test.shape)\n",
        "print(\"y_test shape\", y_test.shape)"
      ],
      "execution_count": null,
      "outputs": [
        {
          "output_type": "stream",
          "text": [
            "Downloading data from https://storage.googleapis.com/tensorflow/tf-keras-datasets/mnist.npz\n",
            "11493376/11490434 [==============================] - 0s 0us/step\n",
            "x_train shape (60000, 28, 28)\n",
            "y_train shape (60000,)\n",
            "x_test shape (10000, 28, 28)\n",
            "y_test shape (10000,)\n"
          ],
          "name": "stdout"
        }
      ]
    },
    {
      "cell_type": "code",
      "metadata": {
        "id": "IV1m_eV6MAre",
        "outputId": "33bea6a1-29e9-4703-8637-ed9b7431c8a9",
        "colab": {
          "base_uri": "https://localhost:8080/",
          "height": 657
        }
      },
      "source": [
        "plt.rcParams['figure.figsize'] = (9,9)\n",
        "\n",
        "for i in range(9):\n",
        "  plt.subplot(3,3,i+1)\n",
        "  num = random.randint(0,len(x_train))\n",
        "  plt.imshow(x_train[num], cmap='gray', interpolation='none')\n",
        "  plt.title(\"Class {}\".format(y_train[num]))\n",
        "\n",
        "plt.tight_layout()"
      ],
      "execution_count": null,
      "outputs": [
        {
          "output_type": "display_data",
          "data": {
            "image/png": "[encoded data removed]",
            "text/plain": [
              "<Figure size 648x648 with 9 Axes>"
            ]
          },
          "metadata": {
            "tags": [],
            "needs_background": "light"
          }
        }
      ]
    },
    {
      "cell_type": "code",
      "metadata": {
        "id": "M9YNFuPXNqII",
        "outputId": "a38b912a-d739-4d6a-9324-d5d1401cf5af",
        "colab": {
          "base_uri": "https://localhost:8080/",
          "height": 493
        }
      },
      "source": [
        "def matprint(mat, fmt=\"g\"):\n",
        "  col_maxes = [max([len((\"{:\"+fmt+\"}\").format(x)) for x in col]) for col in mat.T]\n",
        "  for x in mat:\n",
        "    for i, y in enumerate(x):\n",
        "      print((\"{:\"+str(col_maxes[i])+fmt+\"}\").format(y), end=\" \")\n",
        "    print(\"\")\n",
        "\n",
        "matprint(x_train[num])"
      ],
      "execution_count": null,
      "outputs": [
        {
          "output_type": "stream",
          "text": [
            "0 0 0 0 0 0 0 0  0   0   0   0   0   0   0   0   0   0   0 0 0 0 0 0 0 0 0 0 \n",
            "0 0 0 0 0 0 0 0  0   0   0   0   0   0   0   0   0   0   0 0 0 0 0 0 0 0 0 0 \n",
            "0 0 0 0 0 0 0 0  0   0   0   0   0   0   0   0   0   0   0 0 0 0 0 0 0 0 0 0 \n",
            "0 0 0 0 0 0 0 0  0   0   0   0   0   0   0   0   0   0   0 0 0 0 0 0 0 0 0 0 \n",
            "0 0 0 0 0 0 0 0  0   0   0   0   0   0   0   0   0   0   0 0 0 0 0 0 0 0 0 0 \n",
            "0 0 0 0 0 0 0 0  0   0   0   0   0   0   0   0   0   0   0 0 0 0 0 0 0 0 0 0 \n",
            "0 0 0 0 0 0 0 0  0   0   0   0   0   0   0   0   0   0   0 0 0 0 0 0 0 0 0 0 \n",
            "0 0 0 0 0 0 0 0  0   0   0   0  11 132 254 253 102   0   0 0 0 0 0 0 0 0 0 0 \n",
            "0 0 0 0 0 0 0 0  0   0   0   0 173 252 253 252 203  20   0 0 0 0 0 0 0 0 0 0 \n",
            "0 0 0 0 0 0 0 0  0   0   0  82 255 253 244 223 255  91  21 0 0 0 0 0 0 0 0 0 \n",
            "0 0 0 0 0 0 0 0  0   0  41 243 253 252  81  20 131 252 142 0 0 0 0 0 0 0 0 0 \n",
            "0 0 0 0 0 0 0 0  0  21 173 253 204  20   0   0  72 253 204 0 0 0 0 0 0 0 0 0 \n",
            "0 0 0 0 0 0 0 0  0 102 253 212  20   0   0  82 112 252 203 0 0 0 0 0 0 0 0 0 \n",
            "0 0 0 0 0 0 0 0  0 163 224  20   0 123 132 253 254 253 102 0 0 0 0 0 0 0 0 0 \n",
            "0 0 0 0 0 0 0 0 21 223 223 102 203 243 253 212  91 252  61 0 0 0 0 0 0 0 0 0 \n",
            "0 0 0 0 0 0 0 0 41 243 254 253 254 233 142  20  51 253   0 0 0 0 0 0 0 0 0 0 \n",
            "0 0 0 0 0 0 0 0  0 162 253 212 131  30   0   0 132 252   0 0 0 0 0 0 0 0 0 0 \n",
            "0 0 0 0 0 0 0 0  0   0   0   0   0   0   0   0 173 253   0 0 0 0 0 0 0 0 0 0 \n",
            "0 0 0 0 0 0 0 0  0   0   0   0   0   0   0   0 253 171   0 0 0 0 0 0 0 0 0 0 \n",
            "0 0 0 0 0 0 0 0  0   0   0   0   0   0   0 102 254 131   0 0 0 0 0 0 0 0 0 0 \n",
            "0 0 0 0 0 0 0 0  0   0   0   0   0   0   0 102 253  50   0 0 0 0 0 0 0 0 0 0 \n",
            "0 0 0 0 0 0 0 0  0   0   0   0   0   0   0 102 224  20   0 0 0 0 0 0 0 0 0 0 \n",
            "0 0 0 0 0 0 0 0  0   0   0   0   0   0   0 142 203   0   0 0 0 0 0 0 0 0 0 0 \n",
            "0 0 0 0 0 0 0 0  0   0   0   0   0   0   0 204 204   0   0 0 0 0 0 0 0 0 0 0 \n",
            "0 0 0 0 0 0 0 0  0   0   0   0   0   0   0 203 203   0   0 0 0 0 0 0 0 0 0 0 \n",
            "0 0 0 0 0 0 0 0  0   0   0   0   0   0   0 204 204   0   0 0 0 0 0 0 0 0 0 0 \n",
            "0 0 0 0 0 0 0 0  0   0   0   0   0   0   0 203 162   0   0 0 0 0 0 0 0 0 0 0 \n",
            "0 0 0 0 0 0 0 0  0   0   0   0   0   0   0   0   0   0   0 0 0 0 0 0 0 0 0 0 \n"
          ],
          "name": "stdout"
        }
      ]
    },
    {
      "cell_type": "code",
      "metadata": {
        "id": "R4LJ3rzde-Fr",
        "outputId": "bd04bce9-47da-4735-8c44-a709bd50eda9",
        "colab": {
          "base_uri": "https://localhost:8080/",
          "height": 51
        }
      },
      "source": [
        "x_train = x_train.reshape(60000, 784)\n",
        "x_test = x_test.reshape(10000, 784)\n",
        "\n",
        "x_train = x_train.astype('float32')\n",
        "x_test = x_test.astype('float32')\n",
        "\n",
        "x_train /= 255\n",
        "x_test /= 255\n",
        "\n",
        "print(\"Formato de matriz de treinamento\", x_train.shape)\n",
        "print(\"Formato de matriz de teste\", x_test.shape)"
      ],
      "execution_count": null,
      "outputs": [
        {
          "output_type": "stream",
          "text": [
            "Formato de matriz de treinamento (60000, 784)\n",
            "Formato de matriz de teste (10000, 784)\n"
          ],
          "name": "stdout"
        }
      ]
    },
    {
      "cell_type": "code",
      "metadata": {
        "id": "4SqV84-DgFSW"
      },
      "source": [
        "nb_classes = 10\n",
        "\n",
        "y_train = np_utils.to_categorical(y_train, nb_classes)\n",
        "y_test = np_utils.to_categorical(y_test, nb_classes)"
      ],
      "execution_count": null,
      "outputs": []
    },
    {
      "cell_type": "code",
      "metadata": {
        "id": "RfG2BQAvgfmi"
      },
      "source": [
        "model = Sequential()"
      ],
      "execution_count": null,
      "outputs": []
    },
    {
      "cell_type": "code",
      "metadata": {
        "id": "VEs1sK7FgmaV"
      },
      "source": [
        "#Primeira camada"
      ],
      "execution_count": null,
      "outputs": []
    },
    {
      "cell_type": "code",
      "metadata": {
        "id": "d_O8XYlmgueu"
      },
      "source": [
        "model.add(Dense(512, input_shape=(784,)))"
      ],
      "execution_count": null,
      "outputs": []
    },
    {
      "cell_type": "code",
      "metadata": {
        "id": "8yuHKe4bg3mh"
      },
      "source": [
        "model.add(Activation('relu'))"
      ],
      "execution_count": null,
      "outputs": []
    },
    {
      "cell_type": "code",
      "metadata": {
        "id": "8plMCCcbg88o"
      },
      "source": [
        "model.add(Dropout(0.2))"
      ],
      "execution_count": null,
      "outputs": []
    },
    {
      "cell_type": "code",
      "metadata": {
        "id": "7aWA9b6ThCNC"
      },
      "source": [
        "#Segunda camada"
      ],
      "execution_count": null,
      "outputs": []
    },
    {
      "cell_type": "code",
      "metadata": {
        "id": "5Bg_7cDdhECY"
      },
      "source": [
        "model.add(Dense(512))\n",
        "model.add(Activation('relu'))\n",
        "model.add(Dropout(0.2))"
      ],
      "execution_count": null,
      "outputs": []
    },
    {
      "cell_type": "code",
      "metadata": {
        "id": "qXpqi-5OhRoO"
      },
      "source": [
        "#Camada final de saída"
      ],
      "execution_count": null,
      "outputs": []
    },
    {
      "cell_type": "code",
      "metadata": {
        "id": "4CfjBV61hU96",
        "outputId": "ace7111f-3fc3-4a62-f6b3-64794fba7d3f",
        "colab": {
          "base_uri": "https://localhost:8080/",
          "height": 54
        }
      },
      "source": [
        "model.add(Dense(10))\n",
        "model.add(Activation('softmax'))\n",
        "model.summary"
      ],
      "execution_count": null,
      "outputs": [
        {
          "output_type": "execute_result",
          "data": {
            "text/plain": [
              "<bound method Model.summary of <tensorflow.python.keras.engine.sequential.Sequential object at 0x7ff51935a2b0>>"
            ]
          },
          "metadata": {
            "tags": []
          },
          "execution_count": 13
        }
      ]
    },
    {
      "cell_type": "code",
      "metadata": {
        "id": "B63-_DUZhlX6"
      },
      "source": [
        "model.compile(loss='categorical_crossentropy', optimizer='adam', metrics=['accuracy'])"
      ],
      "execution_count": null,
      "outputs": []
    },
    {
      "cell_type": "code",
      "metadata": {
        "id": "uDoS0HZ7h5x1",
        "outputId": "00c64fa3-f496-4243-c930-c744701b7f39",
        "colab": {
          "base_uri": "https://localhost:8080/",
          "height": 224
        }
      },
      "source": [
        "#Treinamento do modelo\n",
        "model.fit(x_train, y_train,\n",
        "          batch_size=128, epochs=5,\n",
        "          verbose=1)"
      ],
      "execution_count": null,
      "outputs": [
        {
          "output_type": "stream",
          "text": [
            "Epoch 1/5\n",
            "469/469 [==============================] - 1s 3ms/step - loss: 0.2495 - accuracy: 0.9252\n",
            "Epoch 2/5\n",
            "469/469 [==============================] - 1s 3ms/step - loss: 0.1017 - accuracy: 0.9685\n",
            "Epoch 3/5\n",
            "469/469 [==============================] - 1s 3ms/step - loss: 0.0712 - accuracy: 0.9776\n",
            "Epoch 4/5\n",
            "469/469 [==============================] - 1s 3ms/step - loss: 0.0551 - accuracy: 0.9822\n",
            "Epoch 5/5\n",
            "469/469 [==============================] - 1s 3ms/step - loss: 0.0458 - accuracy: 0.9852\n"
          ],
          "name": "stdout"
        },
        {
          "output_type": "execute_result",
          "data": {
            "text/plain": [
              "<tensorflow.python.keras.callbacks.History at 0x7ff4d0422860>"
            ]
          },
          "metadata": {
            "tags": []
          },
          "execution_count": 16
        }
      ]
    },
    {
      "cell_type": "code",
      "metadata": {
        "id": "1xi4FYd5icma",
        "outputId": "d78059e0-c88b-48c6-adec-7f92ae2817ad",
        "colab": {
          "base_uri": "https://localhost:8080/",
          "height": 88
        }
      },
      "source": [
        "#Validação da acurácia do modelo em um teste de dados\n",
        "score = model.evaluate(x_test, y_test)\n",
        "print('Test score: ', score[0])\n",
        "print('Test accuracy: ', score[1])"
      ],
      "execution_count": null,
      "outputs": [
        {
          "output_type": "stream",
          "text": [
            "313/313 [==============================] - 1s 2ms/step - loss: 0.0611 - accuracy: 0.9809\n",
            "Test score:  0.0611448734998703\n",
            "Test accuracy:  0.98089998960495\n"
          ],
          "name": "stdout"
        }
      ]
    },
    {
      "cell_type": "code",
      "metadata": {
        "id": "mIziH2GMi038",
        "outputId": "b401bc9c-f078-4f3a-87e2-dd6fca950a17",
        "colab": {
          "base_uri": "https://localhost:8080/",
          "height": 156
        }
      },
      "source": [
        "#Inspeção da saída\n",
        "predicted_classes = model.predict_classes(x_test)\n",
        "correct_indices = np.nonzero(predicted_classes == y_test)[0]\n",
        "incorrect_indices = np.nonzero(predicted_classes != y_test)[0]"
      ],
      "execution_count": null,
      "outputs": [
        {
          "output_type": "stream",
          "text": [
            "WARNING:tensorflow:From <ipython-input-18-6d60d735043f>:2: Sequential.predict_classes (from tensorflow.python.keras.engine.sequential) is deprecated and will be removed after 2021-01-01.\n",
            "Instructions for updating:\n",
            "Please use instead:* `np.argmax(model.predict(x), axis=-1)`,   if your model does multi-class classification   (e.g. if it uses a `softmax` last-layer activation).* `(model.predict(x) > 0.5).astype(\"int32\")`,   if your model does binary classification   (e.g. if it uses a `sigmoid` last-layer activation).\n"
          ],
          "name": "stdout"
        },
        {
          "output_type": "stream",
          "text": [
            "/usr/local/lib/python3.6/dist-packages/ipykernel_launcher.py:3: DeprecationWarning: elementwise comparison failed; this will raise an error in the future.\n",
            "  This is separate from the ipykernel package so we can avoid doing imports until\n",
            "/usr/local/lib/python3.6/dist-packages/ipykernel_launcher.py:4: DeprecationWarning: elementwise comparison failed; this will raise an error in the future.\n",
            "  after removing the cwd from sys.path.\n"
          ],
          "name": "stderr"
        }
      ]
    },
    {
      "cell_type": "code",
      "metadata": {
        "id": "3J0R5xSsjSUf",
        "outputId": "94b29228-60ec-4c38-c421-42320397a9fa",
        "colab": {
          "base_uri": "https://localhost:8080/",
          "height": 222
        }
      },
      "source": [
        "plt.figure()\n",
        "for i, correct in enumerate(correct_indices[:9]):\n",
        "  plt.subplot(3,3,i+1)\n",
        "  plt.imshow(x_test[correct].reshape(28,28), cmap='gray', interpolation='none')\n",
        "  plt.title(\"Predicted {}, Class {}\".format(predicted_classes[correct], y_test[correct]))\n",
        "\n",
        "plt.tight_layout()\n",
        "\n",
        "plt.figure()\n",
        "for i, incorrect in enumerate(incorrect_indices[:9]):\n",
        "    plt.subplot(3,3,i+1)\n",
        "    plt.imshow(x_test[incorrect].reshape(28,28), cmap='gray', interpolation='none')\n",
        "    plt.title(\"Predicted {}, Class {}\".format(predicted_classes[incorrect], y_test[incorrect]))\n",
        "    \n",
        "plt.tight_layout()"
      ],
      "execution_count": null,
      "outputs": [
        {
          "output_type": "display_data",
          "data": {
            "text/plain": [
              "<Figure size 648x648 with 0 Axes>"
            ]
          },
          "metadata": {
            "tags": []
          }
        },
        {
          "output_type": "display_data",
          "data": {
            "image/png": "[encoded data removed]",
            "text/plain": [
              "<Figure size 648x648 with 1 Axes>"
            ]
          },
          "metadata": {
            "tags": [],
            "needs_background": "light"
          }
        }
      ]
    }
  ]
}
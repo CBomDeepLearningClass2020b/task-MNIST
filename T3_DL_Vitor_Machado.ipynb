{
  "nbformat": 4,
  "nbformat_minor": 0,
  "metadata": {
    "colab": {
      "name": "Tarefa 3 DL.ipynb",
      "provenance": [],
      "collapsed_sections": []
    },
    "kernelspec": {
      "name": "python3",
      "display_name": "Python 3"
    }
  },
  "cells": [
    {
      "cell_type": "markdown",
      "metadata": {
        "id": "-k4Mf13y5LvB"
      },
      "source": [
        "Importando bibliotecas e dataset"
      ]
    },
    {
      "cell_type": "code",
      "metadata": {
        "id": "evtfSQMi3Fp-"
      },
      "source": [
        "import tensorflow\n",
        "import numpy as np\n",
        "import matplotlib.pyplot as plt"
      ],
      "execution_count": null,
      "outputs": []
    },
    {
      "cell_type": "code",
      "metadata": {
        "id": "KE73IZpy3VFW"
      },
      "source": [
        "(train_images, train_labels), (test_images, test_labels) = tensorflow.keras.datasets.mnist.load_data()"
      ],
      "execution_count": null,
      "outputs": []
    },
    {
      "cell_type": "code",
      "metadata": {
        "id": "pHChN8j63o0K",
        "colab": {
          "base_uri": "https://localhost:8080/",
          "height": 50
        },
        "outputId": "0b1ab2f4-d9e6-416f-e53e-0560820e3375"
      },
      "source": [
        "print(train_images.shape)\n",
        "print(train_labels.shape)"
      ],
      "execution_count": null,
      "outputs": [
        {
          "output_type": "stream",
          "text": [
            "(60000, 28, 28)\n",
            "(60000,)\n"
          ],
          "name": "stdout"
        }
      ]
    },
    {
      "cell_type": "markdown",
      "metadata": {
        "id": "ENbODA_M4m9y"
      },
      "source": [
        "Normalizando as imagens de treino e teste"
      ]
    },
    {
      "cell_type": "code",
      "metadata": {
        "id": "KWBBhcqV3xMQ"
      },
      "source": [
        "train_images = train_images/255 - 0.5\n",
        "test_images = test_images/255 - 0.5"
      ],
      "execution_count": null,
      "outputs": []
    },
    {
      "cell_type": "markdown",
      "metadata": {
        "id": "-4-_-aOA4qVE"
      },
      "source": [
        "Adicionando mais uma dimensão nas imagens de treino e teste"
      ]
    },
    {
      "cell_type": "code",
      "metadata": {
        "id": "ydM6LT1n4GWG",
        "colab": {
          "base_uri": "https://localhost:8080/",
          "height": 50
        },
        "outputId": "4472ed64-1604-4393-ff23-14e4fe262d5e"
      },
      "source": [
        "train_images = np.expand_dims(train_images, axis=3)\n",
        "test_images = np.expand_dims(test_images, axis=3)\n",
        "\n",
        "print(train_images.shape)\n",
        "print(test_images.shape)"
      ],
      "execution_count": null,
      "outputs": [
        {
          "output_type": "stream",
          "text": [
            "(60000, 28, 28, 1)\n",
            "(10000, 28, 28, 1)\n"
          ],
          "name": "stdout"
        }
      ]
    },
    {
      "cell_type": "markdown",
      "metadata": {
        "id": "OMBjDLk65thF"
      },
      "source": [
        "Criando, compilando e treinando a Rede"
      ]
    },
    {
      "cell_type": "code",
      "metadata": {
        "id": "EY6UQKaN4zL3"
      },
      "source": [
        "from tensorflow.keras.layers import Dense, Conv2D, MaxPooling2D, Flatten, Dropout\n",
        "\n",
        "num_filters = 8\n",
        "filter_size = 3\n",
        "pool_size = 2\n",
        "\n",
        "modelo = tensorflow.keras.models.Sequential([#Conv2D(32, filter_size, input_shape=(28,28,1)),\n",
        "                                             Conv2D(32, kernel_size = (5,5), strides = (1,1), activation = 'relu', input_shape = (28, 28, 1)),\n",
        "                                             MaxPooling2D(pool_size=pool_size),\n",
        "                                             Dropout(.3),\n",
        "                                             Conv2D(16, filter_size),\n",
        "                                             MaxPooling2D(pool_size=4),\n",
        "                                             Flatten(),\n",
        "                                             Dense(10, activation='softmax')\n",
        "                                             ])"
      ],
      "execution_count": null,
      "outputs": []
    },
    {
      "cell_type": "code",
      "metadata": {
        "id": "izB4_ZAs6kWP"
      },
      "source": [
        "modelo.compile(optimizer='adam',\n",
        "               loss='categorical_crossentropy',\n",
        "               metrics=['accuracy'])"
      ],
      "execution_count": null,
      "outputs": []
    },
    {
      "cell_type": "code",
      "metadata": {
        "id": "z7K35Y4b661l",
        "colab": {
          "base_uri": "https://localhost:8080/",
          "height": 185
        },
        "outputId": "6d1e1422-56c7-44b8-e72e-acc329aab263"
      },
      "source": [
        "historico = modelo.fit(train_images,\n",
        "           tensorflow.keras.utils.to_categorical(train_labels),\n",
        "           epochs=5,\n",
        "           validation_data=(test_images, tensorflow.keras.utils.to_categorical(test_labels))\n",
        "    \n",
        ")"
      ],
      "execution_count": null,
      "outputs": [
        {
          "output_type": "stream",
          "text": [
            "Epoch 1/5\n",
            "1875/1875 [==============================] - 40s 21ms/step - loss: 0.3382 - accuracy: 0.8963 - val_loss: 0.1053 - val_accuracy: 0.9667\n",
            "Epoch 2/5\n",
            "1875/1875 [==============================] - 41s 22ms/step - loss: 0.1233 - accuracy: 0.9610 - val_loss: 0.0700 - val_accuracy: 0.9798\n",
            "Epoch 3/5\n",
            "1875/1875 [==============================] - 40s 21ms/step - loss: 0.0970 - accuracy: 0.9701 - val_loss: 0.0611 - val_accuracy: 0.9819\n",
            "Epoch 4/5\n",
            "1875/1875 [==============================] - 40s 22ms/step - loss: 0.0829 - accuracy: 0.9741 - val_loss: 0.0582 - val_accuracy: 0.9824\n",
            "Epoch 5/5\n",
            "1875/1875 [==============================] - 40s 22ms/step - loss: 0.0741 - accuracy: 0.9769 - val_loss: 0.0518 - val_accuracy: 0.9840\n"
          ],
          "name": "stdout"
        }
      ]
    },
    {
      "cell_type": "code",
      "metadata": {
        "id": "daxtcmy68CjB",
        "colab": {
          "base_uri": "https://localhost:8080/",
          "height": 314
        },
        "outputId": "99e0101f-2310-49f3-de20-2754b3efc2c0"
      },
      "source": [
        "plt.plot(historico.history['accuracy'])\n",
        "plt.plot(historico.history['val_accuracy'])\n",
        "plt.title('Acurácia por época')\n",
        "plt.xlabel('Época')\n",
        "plt.ylabel('Acurácia')\n",
        "plt.legend(['Treino', 'Validação'])"
      ],
      "execution_count": null,
      "outputs": [
        {
          "output_type": "execute_result",
          "data": {
            "text/plain": [
              "<matplotlib.legend.Legend at 0x7fb679613588>"
            ]
          },
          "metadata": {
            "tags": []
          },
          "execution_count": 13
        },
        {
          "output_type": "display_data",
          "data": {
            "image/png": "[encoded data removed]",
            "text/plain": [
              "<Figure size 432x288 with 1 Axes>"
            ]
          },
          "metadata": {
            "tags": [],
            "needs_background": "light"
          }
        }
      ]
    },
    {
      "cell_type": "code",
      "metadata": {
        "id": "sW2pnFBt9V2u",
        "colab": {
          "base_uri": "https://localhost:8080/",
          "height": 314
        },
        "outputId": "f38bf68f-e5c6-474b-da31-5574d93e6db1"
      },
      "source": [
        "plt.plot(historico.history['loss'])\n",
        "plt.plot(historico.history['val_loss'])\n",
        "plt.title('Perda por época')\n",
        "plt.xlabel('Época')\n",
        "plt.ylabel('Perda')\n",
        "plt.legend(['Treino', 'Validação'])"
      ],
      "execution_count": null,
      "outputs": [
        {
          "output_type": "execute_result",
          "data": {
            "text/plain": [
              "<matplotlib.legend.Legend at 0x7fb679597ac8>"
            ]
          },
          "metadata": {
            "tags": []
          },
          "execution_count": 14
        },
        {
          "output_type": "display_data",
          "data": {
            "image/png": "[encoded data removed]",
            "text/plain": [
              "<Figure size 432x288 with 1 Axes>"
            ]
          },
          "metadata": {
            "tags": [],
            "needs_background": "light"
          }
        }
      ]
    },
    {
      "cell_type": "code",
      "metadata": {
        "id": "ZOIIwvsA9stl",
        "colab": {
          "base_uri": "https://localhost:8080/",
          "height": 185
        },
        "outputId": "094a7ee1-3683-405b-aa45-abeb760973c7"
      },
      "source": [
        "modelo_aula = tensorflow.keras.models.Sequential([\n",
        "                                             Conv2D(32, kernel_size = (5,5), strides = (1,1), activation = 'relu', input_shape = (28, 28, 1)),\n",
        "                                             MaxPooling2D(pool_size = (2,2), strides = (2,2)),\n",
        "                                             Conv2D(64, (5,5), activation = 'relu'),\n",
        "                                             MaxPooling2D(pool_size = (2,2)),\n",
        "                                             Flatten(),\n",
        "                                             Dropout(0.4),\n",
        "                                             Dense(1000, activation = 'relu'),\n",
        "                                             Dense(10, activation = 'softmax'),\n",
        "                                             ])\n",
        "\n",
        "modelo_aula.compile(optimizer='adam',\n",
        "               loss='categorical_crossentropy',\n",
        "               metrics=['accuracy'])\n",
        "\n",
        "historico_aula = modelo_aula.fit(train_images,\n",
        "           tensorflow.keras.utils.to_categorical(train_labels),\n",
        "           epochs=5,\n",
        "           validation_data=(test_images, tensorflow.keras.utils.to_categorical(test_labels))\n",
        "    \n",
        ")"
      ],
      "execution_count": null,
      "outputs": [
        {
          "output_type": "stream",
          "text": [
            "Epoch 1/5\n",
            "1875/1875 [==============================] - 82s 44ms/step - loss: 0.1296 - accuracy: 0.9597 - val_loss: 0.0373 - val_accuracy: 0.9885\n",
            "Epoch 2/5\n",
            "1875/1875 [==============================] - 82s 44ms/step - loss: 0.0511 - accuracy: 0.9844 - val_loss: 0.0259 - val_accuracy: 0.9922\n",
            "Epoch 3/5\n",
            "1875/1875 [==============================] - 83s 44ms/step - loss: 0.0413 - accuracy: 0.9870 - val_loss: 0.0312 - val_accuracy: 0.9906\n",
            "Epoch 4/5\n",
            "1875/1875 [==============================] - 83s 44ms/step - loss: 0.0349 - accuracy: 0.9895 - val_loss: 0.0263 - val_accuracy: 0.9916\n",
            "Epoch 5/5\n",
            "1875/1875 [==============================] - 82s 44ms/step - loss: 0.0304 - accuracy: 0.9904 - val_loss: 0.0291 - val_accuracy: 0.9912\n"
          ],
          "name": "stdout"
        }
      ]
    },
    {
      "cell_type": "code",
      "metadata": {
        "id": "_vVRsxf8AeIm",
        "colab": {
          "base_uri": "https://localhost:8080/",
          "height": 314
        },
        "outputId": "d7ea63af-06f8-4d88-884d-48e2bc950406"
      },
      "source": [
        "plt.plot(historico_aula.history['accuracy'])\n",
        "plt.plot(historico_aula.history['val_accuracy'])\n",
        "plt.title('Acurácia por época')\n",
        "plt.xlabel('Época')\n",
        "plt.ylabel('Acurácia')\n",
        "plt.legend(['Treino', 'Validação'])"
      ],
      "execution_count": null,
      "outputs": [
        {
          "output_type": "execute_result",
          "data": {
            "text/plain": [
              "<matplotlib.legend.Legend at 0x7fb678708cf8>"
            ]
          },
          "metadata": {
            "tags": []
          },
          "execution_count": 16
        },
        {
          "output_type": "display_data",
          "data": {
            "image/png": "[encoded data removed]",
            "text/plain": [
              "<Figure size 432x288 with 1 Axes>"
            ]
          },
          "metadata": {
            "tags": [],
            "needs_background": "light"
          }
        }
      ]
    },
    {
      "cell_type": "code",
      "metadata": {
        "id": "X4XATofLAiAm",
        "colab": {
          "base_uri": "https://localhost:8080/",
          "height": 314
        },
        "outputId": "feb8c9ca-fb94-4497-a185-474916de12b5"
      },
      "source": [
        "plt.plot(historico_aula.history['loss'])\n",
        "plt.plot(historico_aula.history['val_loss'])\n",
        "plt.title('Perda por época')\n",
        "plt.xlabel('Época')\n",
        "plt.ylabel('Perda')\n",
        "plt.legend(['Treino', 'Validação'])"
      ],
      "execution_count": null,
      "outputs": [
        {
          "output_type": "execute_result",
          "data": {
            "text/plain": [
              "<matplotlib.legend.Legend at 0x7fb678fb8438>"
            ]
          },
          "metadata": {
            "tags": []
          },
          "execution_count": 17
        },
        {
          "output_type": "display_data",
          "data": {
            "image/png": "[encoded data removed]",
            "text/plain": [
              "<Figure size 432x288 with 1 Axes>"
            ]
          },
          "metadata": {
            "tags": [],
            "needs_background": "light"
          }
        }
      ]
    },
    {
      "cell_type": "markdown",
      "metadata": {
        "id": "PjZfSaeYLpxj"
      },
      "source": [
        "##Testando alterações para quebrar o modelo"
      ]
    },
    {
      "cell_type": "code",
      "metadata": {
        "id": "SfYPWU8IAkZ5",
        "colab": {
          "base_uri": "https://localhost:8080/",
          "height": 118
        },
        "outputId": "8f1caa42-d9ef-426c-85d0-d5bbfa464068"
      },
      "source": [
        "modelo_quebrado = tensorflow.keras.models.Sequential([\n",
        "                                             Conv2D(4, kernel_size = (5,5), strides = (2,2), activation = 'relu', input_shape = (28, 28, 1)),\n",
        "                                             MaxPooling2D(pool_size = (2,2), strides = (2,2)),\n",
        "                                             Conv2D(2, (5,5), activation = 'relu'),\n",
        "                                             MaxPooling2D(pool_size = (2,2)),\n",
        "                                             Flatten(),\n",
        "                                             Dropout(0.7),\n",
        "                                             Dense(10, activation = 'relu'),\n",
        "                                             Dense(10, activation = 'softmax'),\n",
        "                                             ])\n",
        "\n",
        "modelo_quebrado.compile(optimizer='adam',\n",
        "               loss='categorical_crossentropy',\n",
        "               metrics=['accuracy'])\n",
        "\n",
        "historico_quebrado = modelo_quebrado.fit(train_images,\n",
        "           tensorflow.keras.utils.to_categorical(train_labels),\n",
        "           epochs=3,\n",
        "           validation_data=(test_images, tensorflow.keras.utils.to_categorical(test_labels))\n",
        "    \n",
        ")"
      ],
      "execution_count": null,
      "outputs": [
        {
          "output_type": "stream",
          "text": [
            "Epoch 1/3\n",
            "1875/1875 [==============================] - 10s 5ms/step - loss: 2.1757 - accuracy: 0.1384 - val_loss: 1.8707 - val_accuracy: 0.3595\n",
            "Epoch 2/3\n",
            "1875/1875 [==============================] - 9s 5ms/step - loss: 2.1275 - accuracy: 0.1622 - val_loss: 1.8458 - val_accuracy: 0.3072\n",
            "Epoch 3/3\n",
            "1875/1875 [==============================] - 10s 5ms/step - loss: 2.1026 - accuracy: 0.1776 - val_loss: 1.7865 - val_accuracy: 0.3255\n"
          ],
          "name": "stdout"
        }
      ]
    },
    {
      "cell_type": "code",
      "metadata": {
        "id": "dG_1EgNxBsQp",
        "colab": {
          "base_uri": "https://localhost:8080/",
          "height": 185
        },
        "outputId": "5217e969-6b4c-4a3c-ef49-d1e180586d03"
      },
      "source": [
        " modelo_quebrado2 = tensorflow.keras.models.Sequential([\n",
        "                                             Conv2D(32, kernel_size = (20,20), strides = (1,1), activation = 'exponential', input_shape = (28, 28, 1)),\n",
        "                                             MaxPooling2D(pool_size=pool_size),\n",
        "                                             Dropout(.3),\n",
        "                                             Conv2D(16, (4,4), activation='exponential'),\n",
        "                                             Flatten(),\n",
        "                                             Dense(10, activation='softmax')\n",
        "                                             ])\n",
        "\n",
        "modelo_quebrado2.compile(optimizer='adam',\n",
        "               loss='categorical_crossentropy',\n",
        "               metrics=['accuracy'])\n",
        "\n",
        "historico_quebrado = modelo_quebrado2.fit(train_images,\n",
        "           tensorflow.keras.utils.to_categorical(train_labels),\n",
        "           epochs=5,\n",
        "           validation_data=(test_images, tensorflow.keras.utils.to_categorical(test_labels))\n",
        "    \n",
        ")"
      ],
      "execution_count": null,
      "outputs": [
        {
          "output_type": "stream",
          "text": [
            "Epoch 1/5\n",
            "1875/1875 [==============================] - 27s 15ms/step - loss: 0.7938 - accuracy: 0.7689 - val_loss: 0.2967 - val_accuracy: 0.9206\n",
            "Epoch 2/5\n",
            "1875/1875 [==============================] - 27s 14ms/step - loss: 9498.4297 - accuracy: 0.7971 - val_loss: 3.5213 - val_accuracy: 0.8216\n",
            "Epoch 3/5\n",
            "1875/1875 [==============================] - 27s 14ms/step - loss: nan - accuracy: 0.6608 - val_loss: nan - val_accuracy: 0.0980\n",
            "Epoch 4/5\n",
            "1875/1875 [==============================] - 27s 14ms/step - loss: nan - accuracy: 0.0987 - val_loss: nan - val_accuracy: 0.0980\n",
            "Epoch 5/5\n",
            "1875/1875 [==============================] - 27s 14ms/step - loss: nan - accuracy: 0.0987 - val_loss: nan - val_accuracy: 0.0980\n"
          ],
          "name": "stdout"
        }
      ]
    },
    {
      "cell_type": "code",
      "metadata": {
        "id": "KDRX81nW-2T6",
        "colab": {
          "base_uri": "https://localhost:8080/",
          "height": 314
        },
        "outputId": "f961a7e0-3ef9-4d9e-b3cb-be520432d827"
      },
      "source": [
        "plt.plot(historico_quebrado.history['loss'])\n",
        "plt.plot(historico_quebrado.history['val_loss'])\n",
        "plt.title('Perda por época')\n",
        "plt.xlabel('Época')\n",
        "plt.ylabel('Perda')\n",
        "plt.legend(['Treino', 'Validação'])"
      ],
      "execution_count": null,
      "outputs": [
        {
          "output_type": "execute_result",
          "data": {
            "text/plain": [
              "<matplotlib.legend.Legend at 0x7fb67bc49668>"
            ]
          },
          "metadata": {
            "tags": []
          },
          "execution_count": 24
        },
        {
          "output_type": "display_data",
          "data": {
            "image/png": "[encoded data removed]",
            "text/plain": [
              "<Figure size 432x288 with 1 Axes>"
            ]
          },
          "metadata": {
            "tags": [],
            "needs_background": "light"
          }
        }
      ]
    },
    {
      "cell_type": "code",
      "metadata": {
        "id": "AyPxVJo3f71s",
        "colab": {
          "base_uri": "https://localhost:8080/",
          "height": 50
        },
        "outputId": "795cd5eb-5d61-45ed-c996-ffe5149b1abb"
      },
      "source": [
        "print(historico_quebrado.history['loss'])\n",
        "print(historico_quebrado.history['val_loss'])"
      ],
      "execution_count": null,
      "outputs": [
        {
          "output_type": "stream",
          "text": [
            "[0.7937856316566467, 9498.4296875, nan, nan, nan]\n",
            "[0.29672369360923767, 3.521306276321411, nan, nan, nan]\n"
          ],
          "name": "stdout"
        }
      ]
    },
    {
      "cell_type": "code",
      "metadata": {
        "id": "C_5YpGjzhmEt"
      },
      "source": [
        ""
      ],
      "execution_count": null,
      "outputs": []
    }
  ]
}
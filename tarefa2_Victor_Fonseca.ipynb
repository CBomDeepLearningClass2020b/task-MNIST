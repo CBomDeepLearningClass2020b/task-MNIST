{
  "nbformat": 4,
  "nbformat_minor": 0,
  "metadata": {
    "colab": {
      "name": "tarefa2_Victor_Fonseca.ipynb",
      "provenance": []
    },
    "kernelspec": {
      "name": "python3",
      "display_name": "Python 3"
    }
  },
  "cells": [
    {
      "cell_type": "markdown",
      "metadata": {
        "id": "yilyh8ox51p9"
      },
      "source": [
        "# Tarefa 2- Primeira rede densa com MNIST\n",
        "\n",
        "## 1. Problema \n",
        "\n",
        "Identificar o dígito escrito na imagem.\n",
        "\n",
        "## 2. Dados\n",
        "\n",
        "As imagens são do data set MNIST\n",
        "\n",
        "## 3. Avaliação\n",
        "\n",
        "Olhar para LOSS e a Acurácia do treino e da validação.\n",
        "\n",
        "Verificar se o dígito da imagem é lido corretamente.\n",
        "\n",
        "## 4. Características"
      ]
    },
    {
      "cell_type": "markdown",
      "metadata": {
        "id": "0EkVpFMZ7Agb"
      },
      "source": [
        "Getting MNIST Data Set"
      ]
    },
    {
      "cell_type": "code",
      "metadata": {
        "id": "oAzAY3aF50CD",
        "colab": {
          "base_uri": "https://localhost:8080/",
          "height": 122
        },
        "outputId": "637befe3-51e1-4d69-e07e-3257ecddb310"
      },
      "source": [
        "!pip install mnist"
      ],
      "execution_count": null,
      "outputs": [
        {
          "output_type": "stream",
          "text": [
            "Collecting mnist\n",
            "  Downloading https://files.pythonhosted.org/packages/c6/c4/5db3bfe009f8d71f1d532bbadbd0ec203764bba3a469e4703a889db8e5e0/mnist-0.2.2-py2.py3-none-any.whl\n",
            "Requirement already satisfied: numpy in /usr/local/lib/python3.6/dist-packages (from mnist) (1.18.5)\n",
            "Installing collected packages: mnist\n",
            "Successfully installed mnist-0.2.2\n"
          ],
          "name": "stdout"
        }
      ]
    },
    {
      "cell_type": "markdown",
      "metadata": {
        "id": "5oFzREFb7nll"
      },
      "source": [
        "# Setting Workspace"
      ]
    },
    {
      "cell_type": "code",
      "metadata": {
        "id": "BrLHyAiW5V7l"
      },
      "source": [
        "import numpy as np\n",
        "import matplotlib.pyplot as plt\n",
        "import mnist    \n",
        "from tensorflow.keras.models import Sequential\n",
        "from tensorflow.keras.layers import Dense, Dropout\n",
        "from tensorflow.keras.utils import to_categorical\n",
        "from tensorflow.keras.callbacks import ModelCheckpoint\n",
        "from sklearn.model_selection import train_test_split"
      ],
      "execution_count": null,
      "outputs": []
    },
    {
      "cell_type": "markdown",
      "metadata": {
        "id": "k5CH2lbt7nJb"
      },
      "source": [
        "# Getting Data Ready"
      ]
    },
    {
      "cell_type": "code",
      "metadata": {
        "id": "JeTM2c9d7wD5",
        "colab": {
          "base_uri": "https://localhost:8080/",
          "height": 34
        },
        "outputId": "88dc3a79-d062-4a76-96c4-3103f86fe5d4"
      },
      "source": [
        "# Training data (also validation data)\n",
        "X_train = mnist.train_images()\n",
        "y_train = mnist.train_labels()\n",
        "# Test data\n",
        "X_test = mnist.test_images()\n",
        "y_test = mnist.test_labels()\n",
        "\n",
        "X_train.shape, X_test.shape"
      ],
      "execution_count": null,
      "outputs": [
        {
          "output_type": "execute_result",
          "data": {
            "text/plain": [
              "((60000, 28, 28), (10000, 28, 28))"
            ]
          },
          "metadata": {
            "tags": []
          },
          "execution_count": 46
        }
      ]
    },
    {
      "cell_type": "code",
      "metadata": {
        "id": "JKIZ6ASr8Mdp",
        "colab": {
          "base_uri": "https://localhost:8080/",
          "height": 34
        },
        "outputId": "44d806b9-d974-42d4-c253-4100117c96db"
      },
      "source": [
        "# Normalize the images\n",
        "X_train = (X_train / 255) - 0.5\n",
        "X_test = (X_test / 255) - 0.5\n",
        "\n",
        "# Flatten the images\n",
        "X_train = X_train.reshape(-1, 784)\n",
        "X_test = X_test.reshape(-1, 784)\n",
        "\n",
        "X_train.shape, X_test.shape"
      ],
      "execution_count": null,
      "outputs": [
        {
          "output_type": "execute_result",
          "data": {
            "text/plain": [
              "((60000, 784), (10000, 784))"
            ]
          },
          "metadata": {
            "tags": []
          },
          "execution_count": 47
        }
      ]
    },
    {
      "cell_type": "code",
      "metadata": {
        "id": "cUIrCf_0AWVb"
      },
      "source": [
        "y_train = to_categorical(y_train)\n",
        "y_test = to_categorical(y_test)"
      ],
      "execution_count": null,
      "outputs": []
    },
    {
      "cell_type": "code",
      "metadata": {
        "id": "csIiXlVIWShW",
        "colab": {
          "base_uri": "https://localhost:8080/",
          "height": 68
        },
        "outputId": "87d8dc5e-ad30-4336-fd0f-259cd08daa43"
      },
      "source": [
        "y_test[:3]"
      ],
      "execution_count": null,
      "outputs": [
        {
          "output_type": "execute_result",
          "data": {
            "text/plain": [
              "array([[0., 0., 0., 0., 0., 0., 0., 1., 0., 0.],\n",
              "       [0., 0., 1., 0., 0., 0., 0., 0., 0., 0.],\n",
              "       [0., 1., 0., 0., 0., 0., 0., 0., 0., 0.]], dtype=float32)"
            ]
          },
          "metadata": {
            "tags": []
          },
          "execution_count": 72
        }
      ]
    },
    {
      "cell_type": "markdown",
      "metadata": {
        "id": "6r09qsP0A_jl"
      },
      "source": [
        "## Splitting Data"
      ]
    },
    {
      "cell_type": "code",
      "metadata": {
        "id": "KxmvOsAeBDQl",
        "colab": {
          "base_uri": "https://localhost:8080/",
          "height": 34
        },
        "outputId": "5809c45d-052f-4e01-965d-6c71fee3a872"
      },
      "source": [
        "X_train, X_val, y_train, y_val = train_test_split(X_train, y_train, test_size=0.2, \n",
        "                                                  random_state=42)\n",
        "X_train.shape, X_val.shape, y_train.shape, y_val.shape"
      ],
      "execution_count": null,
      "outputs": [
        {
          "output_type": "execute_result",
          "data": {
            "text/plain": [
              "((48000, 784), (12000, 784), (48000, 10), (12000, 10))"
            ]
          },
          "metadata": {
            "tags": []
          },
          "execution_count": 49
        }
      ]
    },
    {
      "cell_type": "markdown",
      "metadata": {
        "id": "KM8Nuton97fa"
      },
      "source": [
        "# Building the Model"
      ]
    },
    {
      "cell_type": "code",
      "metadata": {
        "id": "gPKJ3jgw8Ofk"
      },
      "source": [
        "def create_model():\n",
        "  model = Sequential()\n",
        "  model.add(Dense(64, activation='relu', input_shape=(784,)))\n",
        "  model.add(Dropout(0.3))\n",
        "  model.add(Dense(64, activation='relu'))\n",
        "  model.add(Dropout(0.3))\n",
        "  model.add(Dense(10, activation='softmax'))\n",
        "  \n",
        "  model.compile(optimizer='adam', loss='categorical_crossentropy', metrics=['accuracy'])\n",
        "  return model"
      ],
      "execution_count": null,
      "outputs": []
    },
    {
      "cell_type": "code",
      "metadata": {
        "id": "CuJCVI658Rl3",
        "colab": {
          "base_uri": "https://localhost:8080/",
          "height": 323
        },
        "outputId": "06168dc6-093a-4ca4-d389-b0b18145e644"
      },
      "source": [
        "model = create_model()\n",
        "model.summary()"
      ],
      "execution_count": null,
      "outputs": [
        {
          "output_type": "stream",
          "text": [
            "Model: \"sequential_7\"\n",
            "_________________________________________________________________\n",
            "Layer (type)                 Output Shape              Param #   \n",
            "=================================================================\n",
            "dense_18 (Dense)             (None, 64)                50240     \n",
            "_________________________________________________________________\n",
            "dropout (Dropout)            (None, 64)                0         \n",
            "_________________________________________________________________\n",
            "dense_19 (Dense)             (None, 64)                4160      \n",
            "_________________________________________________________________\n",
            "dropout_1 (Dropout)          (None, 64)                0         \n",
            "_________________________________________________________________\n",
            "dense_20 (Dense)             (None, 10)                650       \n",
            "=================================================================\n",
            "Total params: 55,050\n",
            "Trainable params: 55,050\n",
            "Non-trainable params: 0\n",
            "_________________________________________________________________\n"
          ],
          "name": "stdout"
        }
      ]
    },
    {
      "cell_type": "code",
      "metadata": {
        "id": "WN79eEQJFMHb"
      },
      "source": [
        "# Checkpoint: store the best model\n",
        "checkpoint_model = 'tarefa2-weights-best.hdf5'\n",
        "checkpoint = ModelCheckpoint(checkpoint_model,\n",
        "                             monitor='val_accuracy',\n",
        "                             verbose=1,\n",
        "                             save_best_only=True,\n",
        "                             mode='max')\n",
        "callbacks_list = [checkpoint]"
      ],
      "execution_count": null,
      "outputs": []
    },
    {
      "cell_type": "code",
      "metadata": {
        "id": "44pn5rLo-0Zx",
        "colab": {
          "base_uri": "https://localhost:8080/",
          "height": 717
        },
        "outputId": "afb1a209-97a9-43f5-a829-92786635b024"
      },
      "source": [
        "NB_EPOCHS = 20\n",
        "BATCH_SIZE = 32\n",
        "\n",
        "out = model.fit(X_train, y_train, \n",
        "          epochs=NB_EPOCHS, \n",
        "          batch_size=BATCH_SIZE,\n",
        "          callbacks=callbacks_list,\n",
        "          validation_data=(X_val, y_val), \n",
        "          verbose=0)"
      ],
      "execution_count": null,
      "outputs": [
        {
          "output_type": "stream",
          "text": [
            "\n",
            "Epoch 00001: val_accuracy did not improve from 0.94500\n",
            "\n",
            "Epoch 00002: val_accuracy did not improve from 0.94500\n",
            "\n",
            "Epoch 00003: val_accuracy improved from 0.94500 to 0.94642, saving model to tarefa2-weights-best.hdf5\n",
            "\n",
            "Epoch 00004: val_accuracy improved from 0.94642 to 0.94925, saving model to tarefa2-weights-best.hdf5\n",
            "\n",
            "Epoch 00005: val_accuracy did not improve from 0.94925\n",
            "\n",
            "Epoch 00006: val_accuracy did not improve from 0.94925\n",
            "\n",
            "Epoch 00007: val_accuracy did not improve from 0.94925\n",
            "\n",
            "Epoch 00008: val_accuracy did not improve from 0.94925\n",
            "\n",
            "Epoch 00009: val_accuracy did not improve from 0.94925\n",
            "\n",
            "Epoch 00010: val_accuracy did not improve from 0.94925\n",
            "\n",
            "Epoch 00011: val_accuracy did not improve from 0.94925\n",
            "\n",
            "Epoch 00012: val_accuracy improved from 0.94925 to 0.95125, saving model to tarefa2-weights-best.hdf5\n",
            "\n",
            "Epoch 00013: val_accuracy improved from 0.95125 to 0.95325, saving model to tarefa2-weights-best.hdf5\n",
            "\n",
            "Epoch 00014: val_accuracy did not improve from 0.95325\n",
            "\n",
            "Epoch 00015: val_accuracy did not improve from 0.95325\n",
            "\n",
            "Epoch 00016: val_accuracy did not improve from 0.95325\n",
            "\n",
            "Epoch 00017: val_accuracy improved from 0.95325 to 0.95475, saving model to tarefa2-weights-best.hdf5\n",
            "\n",
            "Epoch 00018: val_accuracy did not improve from 0.95475\n",
            "\n",
            "Epoch 00019: val_accuracy did not improve from 0.95475\n",
            "\n",
            "Epoch 00020: val_accuracy did not improve from 0.95475\n"
          ],
          "name": "stdout"
        }
      ]
    },
    {
      "cell_type": "code",
      "metadata": {
        "id": "a-8GnNIQB9Jq",
        "colab": {
          "base_uri": "https://localhost:8080/",
          "height": 621
        },
        "outputId": "23aae7d6-da30-4789-f6f9-496aef812c6e"
      },
      "source": [
        "fig, ([ax0, ax1]) = plt.subplots(nrows=2, \n",
        "                                ncols=1,\n",
        "                                figsize=(10,10))\n",
        "\n",
        "# Add data to ax0\n",
        "ax0.plot(out.history[\"accuracy\"])\n",
        "ax0.plot(out.history[\"val_accuracy\"])\n",
        "# Change the y axis limits\n",
        "#ax2.set_ylim([0.6, 0.9])\n",
        "# Customize ax0\n",
        "ax0.set(title=\"Model Accuracy\",\n",
        "        xlabel=\"Epoch\",\n",
        "        ylabel=\"Accuracy\");\n",
        "# Add a legend to ax0\n",
        "ax0.legend([\"Training\", \"Validation\"], loc=\"upper left\");\n",
        "\n",
        "# Add data to ax1\n",
        "ax1.plot(out.history[\"loss\"])\n",
        "ax1.plot(out.history[\"val_loss\"])\n",
        "# Change the y axis limits\n",
        "#ax1.set_ylim([0.6, 0.9])\n",
        "# Customize ax0\n",
        "ax1.set(title=\"Model Loss\",\n",
        "        xlabel=\"Epoch\",\n",
        "        ylabel=\"Loss\");\n",
        "# Add a legend to ax0\n",
        "ax1.legend([\"Training\", \"Validation\"], loc=\"upper left\");"
      ],
      "execution_count": null,
      "outputs": [
        {
          "output_type": "display_data",
          "data": {
            "image/png": "[encoded data removed]",
            "text/plain": [
              "<Figure size 720x720 with 2 Axes>"
            ]
          },
          "metadata": {
            "tags": [],
            "needs_background": "light"
          }
        }
      ]
    },
    {
      "cell_type": "code",
      "metadata": {
        "id": "rp4d_Q78HmH0",
        "colab": {
          "base_uri": "https://localhost:8080/",
          "height": 68
        },
        "outputId": "0fee483d-0ebf-4aaa-ec94-e4e93cfd66f4"
      },
      "source": [
        "score = model.evaluate(X_test, y_test, batch_size=BATCH_SIZE)\n",
        "print('Test loss = ',score[0],'\\nTest accuracy = ',score[1])"
      ],
      "execution_count": null,
      "outputs": [
        {
          "output_type": "stream",
          "text": [
            "313/313 [==============================] - 0s 1ms/step - loss: 0.1605 - accuracy: 0.9534\n",
            "Test loss =  0.16046246886253357 \n",
            "Test accuracy =  0.9534000158309937\n"
          ],
          "name": "stdout"
        }
      ]
    },
    {
      "cell_type": "code",
      "metadata": {
        "id": "QrTkzPvOHznV",
        "colab": {
          "base_uri": "https://localhost:8080/",
          "height": 1000
        },
        "outputId": "0f0fd3e8-58ae-4a6c-b9dd-f83ecd232eda"
      },
      "source": [
        "# Predict single images\n",
        "nb_images = 6\n",
        "# Get images from test set\n",
        "#X_to_predict = X_test[:nb_images]\n",
        "X_to_predict = X_test[-nb_images:]\n",
        "# Predicts\n",
        "# Use the model to predict the images class\n",
        "y_preds = list(model.predict_proba(X_to_predict))\n",
        "\n",
        "# Display\n",
        "for i in range(nb_images):\n",
        "    plt.imshow(np.reshape(X_to_predict[i], [28, 28]), cmap='gray')\n",
        "    plt.show()\n",
        "    output=np.where(y_preds[i]==y_preds[i].max())\n",
        "    print(y_preds[i])\n",
        "    print(\"Model digit prediction:\", output[0][0])\n",
        "\n",
        "#pause()"
      ],
      "execution_count": null,
      "outputs": [
        {
          "output_type": "display_data",
          "data": {
            "image/png": "[encoded data removed]",
            "text/plain": [
              "<Figure size 432x288 with 1 Axes>"
            ]
          },
          "metadata": {
            "tags": [],
            "needs_background": "light"
          }
        },
        {
          "output_type": "stream",
          "text": [
            "[8.4942758e-07 9.9355906e-01 6.7582855e-04 2.6093770e-04 4.0876730e-05\n",
            " 4.0779814e-05 1.2325001e-04 8.9829933e-05 5.1985416e-03 9.9899316e-06]\n",
            "Model digit prediction: 1\n"
          ],
          "name": "stdout"
        },
        {
          "output_type": "display_data",
          "data": {
            "image/png": "[encoded data removed]",
            "text/plain": [
              "<Figure size 432x288 with 1 Axes>"
            ]
          },
          "metadata": {
            "tags": [],
            "needs_background": "light"
          }
        },
        {
          "output_type": "stream",
          "text": [
            "[6.0912477e-14 3.5738105e-07 9.9846196e-01 1.2730062e-03 1.5076324e-21\n",
            " 1.2038643e-09 7.8538061e-24 2.6364360e-04 1.1159145e-06 2.5611414e-18]\n",
            "Model digit prediction: 2\n"
          ],
          "name": "stdout"
        },
        {
          "output_type": "display_data",
          "data": {
            "image/png": "[encoded data removed]",
            "text/plain": [
              "<Figure size 432x288 with 1 Axes>"
            ]
          },
          "metadata": {
            "tags": [],
            "needs_background": "light"
          }
        },
        {
          "output_type": "stream",
          "text": [
            "[1.0415457e-22 7.1814532e-10 1.0380045e-09 9.9999499e-01 1.3281210e-18\n",
            " 5.0073422e-06 1.3373187e-24 1.2764337e-09 7.8152840e-10 1.4380780e-10]\n",
            "Model digit prediction: 3\n"
          ],
          "name": "stdout"
        },
        {
          "output_type": "display_data",
          "data": {
            "image/png": "[encoded data removed]",
            "text/plain": [
              "<Figure size 432x288 with 1 Axes>"
            ]
          },
          "metadata": {
            "tags": [],
            "needs_background": "light"
          }
        },
        {
          "output_type": "stream",
          "text": [
            "[2.2184503e-08 4.5367784e-08 4.6135061e-05 1.9423974e-06 9.9986923e-01\n",
            " 5.0833961e-07 3.7086632e-08 5.3144340e-05 1.7041639e-07 2.8798564e-05]\n",
            "Model digit prediction: 4\n"
          ],
          "name": "stdout"
        },
        {
          "output_type": "display_data",
          "data": {
            "image/png": "[encoded data removed]",
            "text/plain": [
              "<Figure size 432x288 with 1 Axes>"
            ]
          },
          "metadata": {
            "tags": [],
            "needs_background": "light"
          }
        },
        {
          "output_type": "stream",
          "text": [
            "[1.1134288e-05 3.3087336e-08 1.8100977e-06 2.7594786e-05 1.9901347e-05\n",
            " 9.9827921e-01 2.0670211e-06 7.5277990e-07 1.6463982e-03 1.1181161e-05]\n",
            "Model digit prediction: 5\n"
          ],
          "name": "stdout"
        },
        {
          "output_type": "display_data",
          "data": {
            "image/png": "[encoded data removed]",
            "text/plain": [
              "<Figure size 432x288 with 1 Axes>"
            ]
          },
          "metadata": {
            "tags": [],
            "needs_background": "light"
          }
        },
        {
          "output_type": "stream",
          "text": [
            "[5.3915994e-07 3.1041333e-16 8.1471931e-05 5.0189787e-08 7.9065949e-06\n",
            " 2.8412398e-06 9.9990726e-01 1.3665511e-13 1.5177054e-10 1.0042250e-11]\n",
            "Model digit prediction: 6\n"
          ],
          "name": "stdout"
        }
      ]
    },
    {
      "cell_type": "code",
      "metadata": {
        "id": "HGvKoFkHIdUO"
      },
      "source": [
        ""
      ],
      "execution_count": null,
      "outputs": []
    }
  ]
}